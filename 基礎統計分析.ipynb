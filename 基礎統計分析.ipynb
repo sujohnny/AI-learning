{
  "nbformat": 4,
  "nbformat_minor": 0,
  "metadata": {
    "colab": {
      "name": "基礎統計分析.ipynb",
      "provenance": [],
      "include_colab_link": true
    },
    "kernelspec": {
      "name": "python3",
      "display_name": "Python 3"
    }
  },
  "cells": [
    {
      "cell_type": "markdown",
      "metadata": {
        "id": "view-in-github",
        "colab_type": "text"
      },
      "source": [
        "<a href=\"https://colab.research.google.com/github/sujohnny/AI-learning/blob/master/%E5%9F%BA%E7%A4%8E%E7%B5%B1%E8%A8%88%E5%88%86%E6%9E%90.ipynb\" target=\"_parent\"><img src=\"https://colab.research.google.com/assets/colab-badge.svg\" alt=\"Open In Colab\"/></a>"
      ]
    },
    {
      "cell_type": "code",
      "metadata": {
        "id": "cqsMNzrEpcXr",
        "colab_type": "code",
        "colab": {
          "base_uri": "https://localhost:8080/",
          "height": 204
        },
        "outputId": "b155553f-5324-4e1c-d409-9a89e17904fc"
      },
      "source": [
        "\n",
        "!wget https://raw.githubusercontent.com/PacktPublishing/Learning-Pandas-Second-Edition/master/data/sp500.csv\n"
      ],
      "execution_count": 1,
      "outputs": [
        {
          "output_type": "stream",
          "text": [
            "--2019-12-10 02:31:56--  https://raw.githubusercontent.com/PacktPublishing/Learning-Pandas-Second-Edition/master/data/sp500.csv\n",
            "Resolving raw.githubusercontent.com (raw.githubusercontent.com)... 151.101.0.133, 151.101.64.133, 151.101.128.133, ...\n",
            "Connecting to raw.githubusercontent.com (raw.githubusercontent.com)|151.101.0.133|:443... connected.\n",
            "HTTP request sent, awaiting response... 200 OK\n",
            "Length: 83629 (82K) [text/plain]\n",
            "Saving to: ‘sp500.csv’\n",
            "\n",
            "\rsp500.csv             0%[                    ]       0  --.-KB/s               \rsp500.csv           100%[===================>]  81.67K  --.-KB/s    in 0.01s   \n",
            "\n",
            "2019-12-10 02:31:56 (5.42 MB/s) - ‘sp500.csv’ saved [83629/83629]\n",
            "\n"
          ],
          "name": "stdout"
        }
      ]
    },
    {
      "cell_type": "code",
      "metadata": {
        "id": "uPHmAhVypjkI",
        "colab_type": "code",
        "colab": {
          "base_uri": "https://localhost:8080/",
          "height": 204
        },
        "outputId": "a4fa45d0-e617-48eb-9ec2-ded797b683e1"
      },
      "source": [
        "!wget https://raw.githubusercontent.com/PacktPublishing/Learning-Pandas-Second-Edition/master/data/omh.csv"
      ],
      "execution_count": 2,
      "outputs": [
        {
          "output_type": "stream",
          "text": [
            "--2019-12-10 02:32:28--  https://raw.githubusercontent.com/PacktPublishing/Learning-Pandas-Second-Edition/master/data/omh.csv\n",
            "Resolving raw.githubusercontent.com (raw.githubusercontent.com)... 151.101.0.133, 151.101.64.133, 151.101.128.133, ...\n",
            "Connecting to raw.githubusercontent.com (raw.githubusercontent.com)|151.101.0.133|:443... connected.\n",
            "HTTP request sent, awaiting response... 200 OK\n",
            "Length: 539 [text/plain]\n",
            "Saving to: ‘omh.csv’\n",
            "\n",
            "\romh.csv               0%[                    ]       0  --.-KB/s               \romh.csv             100%[===================>]     539  --.-KB/s    in 0s      \n",
            "\n",
            "2019-12-10 02:32:28 (167 MB/s) - ‘omh.csv’ saved [539/539]\n",
            "\n"
          ],
          "name": "stdout"
        }
      ]
    },
    {
      "cell_type": "code",
      "metadata": {
        "id": "iTBr68cxpsNI",
        "colab_type": "code",
        "colab": {
          "base_uri": "https://localhost:8080/",
          "height": 34
        },
        "outputId": "932eb013-6ea3-4d49-85a5-5882daf94838"
      },
      "source": [
        "!ls"
      ],
      "execution_count": 3,
      "outputs": [
        {
          "output_type": "stream",
          "text": [
            "omh.csv  sample_data  sp500.csv\n"
          ],
          "name": "stdout"
        }
      ]
    },
    {
      "cell_type": "code",
      "metadata": {
        "id": "A6hxvGospzlA",
        "colab_type": "code",
        "colab": {
          "base_uri": "https://localhost:8080/",
          "height": 34
        },
        "outputId": "01c3e775-9346-4e9b-f639-05c97cbda232"
      },
      "source": [
        "%mkdir haha"
      ],
      "execution_count": 10,
      "outputs": [
        {
          "output_type": "stream",
          "text": [
            "mkdir: cannot create directory ‘haha’: File exists\n"
          ],
          "name": "stdout"
        }
      ]
    },
    {
      "cell_type": "code",
      "metadata": {
        "id": "OCzxMjlKq3xn",
        "colab_type": "code",
        "colab": {}
      },
      "source": [
        "# -*- coding: utf-8 -*-\n",
        "import numpy as np\n",
        "import pandas as pd\n",
        "\n",
        "# used for dates\n",
        "import datetime\n",
        "from datetime import datetime, date\n",
        "\n",
        "# Set formattign options\n",
        "pd.set_option('display.notebook_repr_html', False)\n",
        "pd.set_option('display.max_columns', 7)\n",
        "pd.set_option('display.max_rows', 10)\n",
        "pd.set_option('display.width', 60)\n",
        "\n",
        "# bring in matplotlib for graphics\n",
        "import matplotlib.pyplot as plt\n",
        "# %matplotlib inline\n",
        "\n",
        "# read in the data and print the first five rows\n",
        "# use the Symbol column as the index, and \n",
        "# only read in columns in positions 0, 2, 3, 7\n",
        "sp500 = pd.read_csv(\"sp500.csv\", \n",
        "                    index_col='Symbol', \n",
        "                    usecols=[0, 2, 3, 7])"
      ],
      "execution_count": 0,
      "outputs": []
    },
    {
      "cell_type": "code",
      "metadata": {
        "id": "GeoxLWlSq6xo",
        "colab_type": "code",
        "colab": {
          "base_uri": "https://localhost:8080/",
          "height": 272
        },
        "outputId": "0341c9d0-7fa4-4d68-c112-529ab548f9f6"
      },
      "source": [
        "sp500"
      ],
      "execution_count": 6,
      "outputs": [
        {
          "output_type": "execute_result",
          "data": {
            "text/plain": [
              "                        Sector   Price  Book Value\n",
              "Symbol                                            \n",
              "MMM                Industrials  141.14      26.668\n",
              "ABT                Health Care   39.60      15.573\n",
              "ABBV               Health Care   53.95       2.954\n",
              "ACN     Information Technology   79.79       8.326\n",
              "ACE                 Financials  102.91      86.897\n",
              "...                        ...     ...         ...\n",
              "YHOO    Information Technology   35.02      12.768\n",
              "YUM     Consumer Discretionary   74.77       5.147\n",
              "ZMH                Health Care  101.84      37.181\n",
              "ZION                Financials   28.43      30.191\n",
              "ZTS                Health Care   30.53       2.150\n",
              "\n",
              "[500 rows x 3 columns]"
            ]
          },
          "metadata": {
            "tags": []
          },
          "execution_count": 6
        }
      ]
    },
    {
      "cell_type": "code",
      "metadata": {
        "id": "xs5fPGQ1rA6f",
        "colab_type": "code",
        "colab": {}
      },
      "source": [
        "# one month of stock history data\n",
        "omh = pd.read_csv(\"omh.csv\")"
      ],
      "execution_count": 0,
      "outputs": []
    },
    {
      "cell_type": "code",
      "metadata": {
        "id": "-X9KGeLNrCme",
        "colab_type": "code",
        "colab": {
          "base_uri": "https://localhost:8080/",
          "height": 255
        },
        "outputId": "5381bfe7-8ef5-46d1-86f6-e82d72cf93d9"
      },
      "source": [
        "omh"
      ],
      "execution_count": 8,
      "outputs": [
        {
          "output_type": "execute_result",
          "data": {
            "text/plain": [
              "          Date   MSFT    AAPL\n",
              "0   2014-12-01  48.62  115.07\n",
              "1   2014-12-02  48.46  114.63\n",
              "2   2014-12-03  48.08  115.93\n",
              "3   2014-12-04  48.84  115.49\n",
              "4   2014-12-05  48.42  115.00\n",
              "..         ...    ...     ...\n",
              "17  2014-12-24  48.14  112.01\n",
              "18  2014-12-26  47.88  113.99\n",
              "19  2014-12-29  47.45  113.91\n",
              "20  2014-12-30  47.02  112.52\n",
              "21  2014-12-31  46.45  110.38\n",
              "\n",
              "[22 rows x 3 columns]"
            ]
          },
          "metadata": {
            "tags": []
          },
          "execution_count": 8
        }
      ]
    },
    {
      "cell_type": "code",
      "metadata": {
        "id": "dqvUgWacrj6B",
        "colab_type": "code",
        "colab": {
          "base_uri": "https://localhost:8080/",
          "height": 170
        },
        "outputId": "e0481942-dc7b-4303-a18e-c8aca22c0964"
      },
      "source": [
        "omh.describe()"
      ],
      "execution_count": 11,
      "outputs": [
        {
          "output_type": "execute_result",
          "data": {
            "text/plain": [
              "            MSFT        AAPL\n",
              "count  22.000000   22.000000\n",
              "mean   47.493182  112.411364\n",
              "std     0.933077    2.388772\n",
              "min    45.160000  106.750000\n",
              "25%    46.967500  111.660000\n",
              "50%    47.625000  112.530000\n",
              "75%    48.125000  114.087500\n",
              "max    48.840000  115.930000"
            ]
          },
          "metadata": {
            "tags": []
          },
          "execution_count": 11
        }
      ]
    },
    {
      "cell_type": "code",
      "metadata": {
        "id": "nt7sYBrwsPfR",
        "colab_type": "code",
        "colab": {
          "base_uri": "https://localhost:8080/",
          "height": 170
        },
        "outputId": "c88cc7c7-18d7-440d-e19a-c0d1fb4e5c58"
      },
      "source": [
        "omh.MSFT.describe()"
      ],
      "execution_count": 12,
      "outputs": [
        {
          "output_type": "execute_result",
          "data": {
            "text/plain": [
              "count    22.000000\n",
              "mean     47.493182\n",
              "std       0.933077\n",
              "min      45.160000\n",
              "25%      46.967500\n",
              "50%      47.625000\n",
              "75%      48.125000\n",
              "max      48.840000\n",
              "Name: MSFT, dtype: float64"
            ]
          },
          "metadata": {
            "tags": []
          },
          "execution_count": 12
        }
      ]
    },
    {
      "cell_type": "code",
      "metadata": {
        "id": "ZrO7HwNRsXqB",
        "colab_type": "code",
        "colab": {
          "base_uri": "https://localhost:8080/",
          "height": 34
        },
        "outputId": "9565f236-0529-48aa-b35c-1413ae10b0ea"
      },
      "source": [
        "omh.MSFT.describe()['mean']"
      ],
      "execution_count": 13,
      "outputs": [
        {
          "output_type": "execute_result",
          "data": {
            "text/plain": [
              "47.49318181818182"
            ]
          },
          "metadata": {
            "tags": []
          },
          "execution_count": 13
        }
      ]
    },
    {
      "cell_type": "code",
      "metadata": {
        "id": "clUd8ashsnJB",
        "colab_type": "code",
        "colab": {
          "base_uri": "https://localhost:8080/",
          "height": 68
        },
        "outputId": "96b4042d-5da3-48ce-d994-d6705475140d"
      },
      "source": [
        "omh.mean()"
      ],
      "execution_count": 14,
      "outputs": [
        {
          "output_type": "execute_result",
          "data": {
            "text/plain": [
              "MSFT     47.493182\n",
              "AAPL    112.411364\n",
              "dtype: float64"
            ]
          },
          "metadata": {
            "tags": []
          },
          "execution_count": 14
        }
      ]
    },
    {
      "cell_type": "code",
      "metadata": {
        "id": "79wlYmb9s3XS",
        "colab_type": "code",
        "colab": {
          "base_uri": "https://localhost:8080/",
          "height": 119
        },
        "outputId": "0de9500b-b7bf-4fef-b3f0-943ea6567ed1"
      },
      "source": [
        "omh.mean(axis=1)[:5]"
      ],
      "execution_count": 15,
      "outputs": [
        {
          "output_type": "execute_result",
          "data": {
            "text/plain": [
              "0    81.845\n",
              "1    81.545\n",
              "2    82.005\n",
              "3    82.165\n",
              "4    81.710\n",
              "dtype: float64"
            ]
          },
          "metadata": {
            "tags": []
          },
          "execution_count": 15
        }
      ]
    },
    {
      "cell_type": "code",
      "metadata": {
        "id": "wvLHucfVs-Eq",
        "colab_type": "code",
        "colab": {
          "base_uri": "https://localhost:8080/",
          "height": 68
        },
        "outputId": "c306d3eb-b1f0-4bfc-ab29-71c6471d5ee2"
      },
      "source": [
        "omh.median()"
      ],
      "execution_count": 16,
      "outputs": [
        {
          "output_type": "execute_result",
          "data": {
            "text/plain": [
              "MSFT     47.625\n",
              "AAPL    112.530\n",
              "dtype: float64"
            ]
          },
          "metadata": {
            "tags": []
          },
          "execution_count": 16
        }
      ]
    },
    {
      "cell_type": "code",
      "metadata": {
        "id": "4Du3u0imtN26",
        "colab_type": "code",
        "colab": {
          "base_uri": "https://localhost:8080/",
          "height": 51
        },
        "outputId": "64e99c96-fe62-4fdd-f7c3-b2bb209fc220"
      },
      "source": [
        "s = pd.Series([1, 2, 3, 3, 5])\n",
        "s.mode()"
      ],
      "execution_count": 17,
      "outputs": [
        {
          "output_type": "execute_result",
          "data": {
            "text/plain": [
              "0    3\n",
              "dtype: int64"
            ]
          },
          "metadata": {
            "tags": []
          },
          "execution_count": 17
        }
      ]
    },
    {
      "cell_type": "code",
      "metadata": {
        "id": "pdUB1jBVtRTB",
        "colab_type": "code",
        "colab": {
          "base_uri": "https://localhost:8080/",
          "height": 68
        },
        "outputId": "e57c1bdf-ca81-4088-8136-5c4601253ad9"
      },
      "source": [
        "s = pd.Series([1, 2, 3, 3, 5, 1])\n",
        "s.mode()"
      ],
      "execution_count": 18,
      "outputs": [
        {
          "output_type": "execute_result",
          "data": {
            "text/plain": [
              "0    1\n",
              "1    3\n",
              "dtype: int64"
            ]
          },
          "metadata": {
            "tags": []
          },
          "execution_count": 18
        }
      ]
    },
    {
      "cell_type": "code",
      "metadata": {
        "id": "lfhQmSNJtUlx",
        "colab_type": "code",
        "colab": {
          "base_uri": "https://localhost:8080/",
          "height": 68
        },
        "outputId": "26ca5c9b-a0a3-484d-fb74-2b39aee4f69b"
      },
      "source": [
        "#變異數\n",
        "omh.var()"
      ],
      "execution_count": 19,
      "outputs": [
        {
          "output_type": "execute_result",
          "data": {
            "text/plain": [
              "MSFT    0.870632\n",
              "AAPL    5.706231\n",
              "dtype: float64"
            ]
          },
          "metadata": {
            "tags": []
          },
          "execution_count": 19
        }
      ]
    },
    {
      "cell_type": "code",
      "metadata": {
        "id": "GyPYOWkVv2Dp",
        "colab_type": "code",
        "colab": {
          "base_uri": "https://localhost:8080/",
          "height": 68
        },
        "outputId": "e17072ef-8ac9-433b-834a-f14275542fdd"
      },
      "source": [
        "#標準差\n",
        "omh.std()"
      ],
      "execution_count": 23,
      "outputs": [
        {
          "output_type": "execute_result",
          "data": {
            "text/plain": [
              "MSFT    0.933077\n",
              "AAPL    2.388772\n",
              "dtype: float64"
            ]
          },
          "metadata": {
            "tags": []
          },
          "execution_count": 23
        }
      ]
    },
    {
      "cell_type": "code",
      "metadata": {
        "id": "zfbToyC8v93Y",
        "colab_type": "code",
        "colab": {
          "base_uri": "https://localhost:8080/",
          "height": 34
        },
        "outputId": "3e5d3928-e04d-4a2e-879a-1cc5aaace550"
      },
      "source": [
        "#相關係數\n",
        "omh.MSFT.cov(omh.AAPL)"
      ],
      "execution_count": 22,
      "outputs": [
        {
          "output_type": "execute_result",
          "data": {
            "text/plain": [
              "1.9261240259740264"
            ]
          },
          "metadata": {
            "tags": []
          },
          "execution_count": 22
        }
      ]
    },
    {
      "cell_type": "code",
      "metadata": {
        "id": "yeZn5H7bwmRg",
        "colab_type": "code",
        "colab": {}
      },
      "source": [
        "#練習\n",
        "#A班同學的資安課程分數如下:60,59,61,62,58,60\n",
        "#B班同學的資安課程分數如下:60,54,66,71,49,60\n",
        "#計算每班的描述統計\n",
        "A=pd.Series([60,59,61,62,58,60])\n",
        "B=pd.Series([60,54,66,71,49,60])"
      ],
      "execution_count": 0,
      "outputs": []
    },
    {
      "cell_type": "code",
      "metadata": {
        "id": "z-wf7-mlxXyF",
        "colab_type": "code",
        "colab": {
          "base_uri": "https://localhost:8080/",
          "height": 136
        },
        "outputId": "90b95485-d8f3-4d48-f588-135018758fc0"
      },
      "source": [
        "A"
      ],
      "execution_count": 41,
      "outputs": [
        {
          "output_type": "execute_result",
          "data": {
            "text/plain": [
              "0    60\n",
              "1    59\n",
              "2    61\n",
              "3    62\n",
              "4    58\n",
              "5    60\n",
              "dtype: int64"
            ]
          },
          "metadata": {
            "tags": []
          },
          "execution_count": 41
        }
      ]
    },
    {
      "cell_type": "code",
      "metadata": {
        "id": "3G6Tdc90xbY5",
        "colab_type": "code",
        "colab": {
          "base_uri": "https://localhost:8080/",
          "height": 136
        },
        "outputId": "7136f125-5e9f-4a28-8758-a6ce6d610d1b"
      },
      "source": [
        "B"
      ],
      "execution_count": 42,
      "outputs": [
        {
          "output_type": "execute_result",
          "data": {
            "text/plain": [
              "0    60\n",
              "1    54\n",
              "2    66\n",
              "3    71\n",
              "4    49\n",
              "5    60\n",
              "dtype: int64"
            ]
          },
          "metadata": {
            "tags": []
          },
          "execution_count": 42
        }
      ]
    },
    {
      "cell_type": "code",
      "metadata": {
        "id": "5xeUOopvxeoI",
        "colab_type": "code",
        "colab": {
          "base_uri": "https://localhost:8080/",
          "height": 170
        },
        "outputId": "280fc278-2ef1-488c-ad4a-b66ff5d2cd08"
      },
      "source": [
        "A.describe()    "
      ],
      "execution_count": 43,
      "outputs": [
        {
          "output_type": "execute_result",
          "data": {
            "text/plain": [
              "count     6.000000\n",
              "mean     60.000000\n",
              "std       1.414214\n",
              "min      58.000000\n",
              "25%      59.250000\n",
              "50%      60.000000\n",
              "75%      60.750000\n",
              "max      62.000000\n",
              "dtype: float64"
            ]
          },
          "metadata": {
            "tags": []
          },
          "execution_count": 43
        }
      ]
    },
    {
      "cell_type": "code",
      "metadata": {
        "id": "gDRrGo7ay5jg",
        "colab_type": "code",
        "colab": {
          "base_uri": "https://localhost:8080/",
          "height": 170
        },
        "outputId": "46197378-482c-4d50-8d87-370316a70d0b"
      },
      "source": [
        "B.describe()"
      ],
      "execution_count": 44,
      "outputs": [
        {
          "output_type": "execute_result",
          "data": {
            "text/plain": [
              "count     6.000000\n",
              "mean     60.000000\n",
              "std       7.924645\n",
              "min      49.000000\n",
              "25%      55.500000\n",
              "50%      60.000000\n",
              "75%      64.500000\n",
              "max      71.000000\n",
              "dtype: float64"
            ]
          },
          "metadata": {
            "tags": []
          },
          "execution_count": 44
        }
      ]
    },
    {
      "cell_type": "code",
      "metadata": {
        "id": "-vCv2e0x0xlx",
        "colab_type": "code",
        "colab": {
          "base_uri": "https://localhost:8080/",
          "height": 51
        },
        "outputId": "71c875d7-f965-4e4d-a009-113b23b95db2"
      },
      "source": [
        "A.mode()"
      ],
      "execution_count": 45,
      "outputs": [
        {
          "output_type": "execute_result",
          "data": {
            "text/plain": [
              "0    60\n",
              "dtype: int64"
            ]
          },
          "metadata": {
            "tags": []
          },
          "execution_count": 45
        }
      ]
    },
    {
      "cell_type": "code",
      "metadata": {
        "id": "rstplq2u00-Y",
        "colab_type": "code",
        "colab": {
          "base_uri": "https://localhost:8080/",
          "height": 51
        },
        "outputId": "707ae0ca-994b-41c1-87e0-642f5b8fde10"
      },
      "source": [
        "B.mode()"
      ],
      "execution_count": 46,
      "outputs": [
        {
          "output_type": "execute_result",
          "data": {
            "text/plain": [
              "0    60\n",
              "dtype: int64"
            ]
          },
          "metadata": {
            "tags": []
          },
          "execution_count": 46
        }
      ]
    },
    {
      "cell_type": "code",
      "metadata": {
        "id": "pyelHcMt0753",
        "colab_type": "code",
        "colab": {
          "base_uri": "https://localhost:8080/",
          "height": 34
        },
        "outputId": "678a4fc2-7983-417a-a758-f0cef407bd3d"
      },
      "source": [
        "#變異數\n",
        "A.var()"
      ],
      "execution_count": 50,
      "outputs": [
        {
          "output_type": "execute_result",
          "data": {
            "text/plain": [
              "2.0"
            ]
          },
          "metadata": {
            "tags": []
          },
          "execution_count": 50
        }
      ]
    },
    {
      "cell_type": "code",
      "metadata": {
        "id": "oxQpQLc80_gu",
        "colab_type": "code",
        "colab": {
          "base_uri": "https://localhost:8080/",
          "height": 34
        },
        "outputId": "10021422-2f4c-438a-a497-155dc7c37967"
      },
      "source": [
        "#變異數\n",
        "B.var()"
      ],
      "execution_count": 49,
      "outputs": [
        {
          "output_type": "execute_result",
          "data": {
            "text/plain": [
              "62.8"
            ]
          },
          "metadata": {
            "tags": []
          },
          "execution_count": 49
        }
      ]
    },
    {
      "cell_type": "code",
      "metadata": {
        "id": "NZtqdVrV1QUR",
        "colab_type": "code",
        "colab": {
          "base_uri": "https://localhost:8080/",
          "height": 34
        },
        "outputId": "c9db1a05-9562-47ee-e753-ad98ca204c85"
      },
      "source": [
        "#標準差\n",
        "A.std()"
      ],
      "execution_count": 51,
      "outputs": [
        {
          "output_type": "execute_result",
          "data": {
            "text/plain": [
              "1.4142135623730951"
            ]
          },
          "metadata": {
            "tags": []
          },
          "execution_count": 51
        }
      ]
    },
    {
      "cell_type": "code",
      "metadata": {
        "id": "MaWDeokt1YbP",
        "colab_type": "code",
        "colab": {
          "base_uri": "https://localhost:8080/",
          "height": 34
        },
        "outputId": "77e6f525-f7be-4890-896c-5c4a7b0921a2"
      },
      "source": [
        "#標準差\n",
        "B.std()"
      ],
      "execution_count": 52,
      "outputs": [
        {
          "output_type": "execute_result",
          "data": {
            "text/plain": [
              "7.92464510246358"
            ]
          },
          "metadata": {
            "tags": []
          },
          "execution_count": 52
        }
      ]
    },
    {
      "cell_type": "code",
      "metadata": {
        "id": "e66WN5yb1vmo",
        "colab_type": "code",
        "colab": {
          "base_uri": "https://localhost:8080/",
          "height": 34
        },
        "outputId": "7f73a059-7b05-4dc3-dbaa-7c961640c317"
      },
      "source": [
        "#相關係數\n",
        "A.cov(B)"
      ],
      "execution_count": 60,
      "outputs": [
        {
          "output_type": "execute_result",
          "data": {
            "text/plain": [
              "11.200000000000001"
            ]
          },
          "metadata": {
            "tags": []
          },
          "execution_count": 60
        }
      ]
    },
    {
      "cell_type": "code",
      "metadata": {
        "id": "uejmM51g51Dg",
        "colab_type": "code",
        "colab": {}
      },
      "source": [
        "import numpy as np\n",
        "import matplotlib.pyplot as plt\n",
        "\n",
        "# Fixing random state for reproducibility\n",
        "np.random.seed(19680801)\n",
        "\n",
        "# fake up some data\n",
        "spread = np.random.rand(50) * 100\n",
        "center = np.ones(25) * 50\n",
        "flier_high = np.random.rand(10) * 100 + 100\n",
        "flier_low = np.random.rand(10) * -100\n",
        "data = np.concatenate((spread, center, flier_high, flier_low))"
      ],
      "execution_count": 0,
      "outputs": []
    },
    {
      "cell_type": "code",
      "metadata": {
        "id": "WwMQzgwj58Yg",
        "colab_type": "code",
        "colab": {
          "base_uri": "https://localhost:8080/",
          "height": 417
        },
        "outputId": "48bb8056-fed4-4647-8b7c-70bda87e965c"
      },
      "source": [
        "fig1, ax1 = plt.subplots()\n",
        "ax1.set_title('Basic Plot')\n",
        "ax1.boxplot(data)"
      ],
      "execution_count": 58,
      "outputs": [
        {
          "output_type": "execute_result",
          "data": {
            "text/plain": [
              "{'boxes': [<matplotlib.lines.Line2D at 0x7f766d728710>],\n",
              " 'caps': [<matplotlib.lines.Line2D at 0x7f766f4c0630>,\n",
              "  <matplotlib.lines.Line2D at 0x7f766f75b198>],\n",
              " 'fliers': [<matplotlib.lines.Line2D at 0x7f766d728e10>],\n",
              " 'means': [],\n",
              " 'medians': [<matplotlib.lines.Line2D at 0x7f766f4f1588>],\n",
              " 'whiskers': [<matplotlib.lines.Line2D at 0x7f766f4c08d0>,\n",
              "  <matplotlib.lines.Line2D at 0x7f766f4c0550>]}"
            ]
          },
          "metadata": {
            "tags": []
          },
          "execution_count": 58
        },
        {
          "output_type": "display_data",
          "data": {
            "image/png": "[encoded data removed]",
            "text/plain": [
              "<Figure size 432x288 with 1 Axes>"
            ]
          },
          "metadata": {
            "tags": []
          }
        }
      ]
    }
  ]
}